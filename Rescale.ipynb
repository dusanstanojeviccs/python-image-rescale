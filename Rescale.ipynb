{
 "cells": [
  {
   "cell_type": "markdown",
   "metadata": {},
   "source": [
    "# Rescaling Images\n",
    "\n",
    "Please read the more detailed description of this script at https://github.com/dusanstanojeviccs/python-image-rescale\n",
    "\n",
    "This script rescales the images from one folder to another.\n",
    "\n",
    "This will support scaling images that either in the path of ```folder_from``` or any of the 1st level sub folders within it. Images are exported to the ```folder_to``` location in the same structure.\n"
   ]
  },
  {
   "cell_type": "code",
   "execution_count": 1,
   "metadata": {},
   "outputs": [],
   "source": [
    "!pip install Pillow scikit-image"
   ]
  },
  {
   "cell_type": "code",
   "execution_count": null,
   "metadata": {},
   "outputs": [],
   "source": [
    "import os\n",
    "from PIL import Image\n",
    "from io import BytesIO\n",
    "from skimage import transform,io\n",
    "\n",
    "width = 32\n",
    "height = 32\n",
    "\n",
    "folder_from = \"data\"\n",
    "folder_to = \"data_scalled\"\n",
    "\n",
    "try:\n",
    "    os.mkdir(folder_to)\n",
    "except:\n",
    "    pass #ignore it if the folder already exists\n",
    "\n",
    "for subdir, dirs, files in os.walk(folder_from):\n",
    "    for file in files:\n",
    "        if not file == \".DS_Store\":\n",
    "            filepath = subdir + os.sep + file\n",
    "            filepath_to = folder_to + subdir[len(folder_from):]  + os.sep + file\n",
    "            \n",
    "            try:\n",
    "                os.mkdir(folder_to + subdir[len(folder_from):])\n",
    "            except:\n",
    "                pass #ignore it if the folder already exists\n",
    "\n",
    "            img = Image.open(filepath)            \n",
    "            img = img.resize((width, height), Image.ANTIALIAS)\n",
    "            img.save(filepath_to, 'PNG')\n"
   ]
  }
 ],
 "metadata": {
  "kernelspec": {
   "display_name": "Python 2",
   "language": "python",
   "name": "python2"
  },
  "language_info": {
   "codemirror_mode": {
    "name": "ipython",
    "version": 2
   },
   "file_extension": ".py",
   "mimetype": "text/x-python",
   "name": "python",
   "nbconvert_exporter": "python",
   "pygments_lexer": "ipython2",
   "version": "2.7.15"
  }
 },
 "nbformat": 4,
 "nbformat_minor": 2
}
